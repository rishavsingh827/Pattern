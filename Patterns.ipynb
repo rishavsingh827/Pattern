{
 "cells": [
  {
   "cell_type": "code",
   "execution_count": 14,
   "id": "15c7f756",
   "metadata": {},
   "outputs": [
    {
     "name": "stdout",
     "output_type": "stream",
     "text": [
      "7\n",
      "7\n",
      "77\n",
      "777\n",
      "7777\n",
      "77777\n",
      "777777\n",
      "7777777\n"
     ]
    }
   ],
   "source": [
    "n = int(input())\n",
    "i = 1\n",
    "\n",
    "while i<=n:\n",
    "    j = 1\n",
    "    while j <=i:\n",
    "        print(n, end='')\n",
    "        j = j+1\n",
    "    print()\n",
    "    i = i+1"
   ]
  },
  {
   "cell_type": "code",
   "execution_count": 1,
   "id": "66bc9d37",
   "metadata": {},
   "outputs": [
    {
     "name": "stdout",
     "output_type": "stream",
     "text": [
      "4\n",
      "1111\n",
      "000\n",
      "11\n",
      "0\n"
     ]
    }
   ],
   "source": [
    "n = int(input())\n",
    "\n",
    "i = 1\n",
    "while i <=n:\n",
    "    j = 1\n",
    "    while j<=n-i+1:\n",
    "        if i%2 == 0:\n",
    "            print(\"0\", end=\"\")\n",
    "        if i%2!= 0:\n",
    "            print(\"1\", end=\"\")\n",
    "        \n",
    "        \n",
    "        j = j+1\n",
    "    i = i+1\n",
    "\n",
    "    print()"
   ]
  },
  {
   "cell_type": "markdown",
   "id": "8f636c4f",
   "metadata": {},
   "source": [
    "123456\n",
    " 23456\n",
    "  3456\n",
    "   456\n",
    "    56\n",
    "     6\n",
    "    56\n",
    "   456\n",
    "  3456\n",
    " 23456\n",
    "123456\n",
    "\n"
   ]
  },
  {
   "cell_type": "code",
   "execution_count": 56,
   "id": "cb52bfda",
   "metadata": {},
   "outputs": [
    {
     "name": "stdout",
     "output_type": "stream",
     "text": [
      "4\n",
      "1234\n",
      " 234\n",
      "  34\n",
      "   4\n",
      "    \n",
      "   23\n",
      "  345\n",
      " 4567\n"
     ]
    }
   ],
   "source": [
    "n = int(input())\n",
    "\n",
    "i = 1\n",
    "while i <=n+1:\n",
    "    spaces = 1\n",
    "    while spaces<=i-1:\n",
    "        print(\" \", end=\"\")\n",
    "        spaces = spaces+1\n",
    "    \n",
    "    j =0\n",
    "    while j<=n-i:\n",
    "            print(j+i, end=\"\")\n",
    "            j = j+1\n",
    "    \n",
    "    print()\n",
    "    i = i+1\n",
    "i = 1\n",
    "while i<n:\n",
    "    spaces = 1\n",
    "    while spaces<=n-i:\n",
    "        print(\" \", end=\"\")\n",
    "        spaces = spaces+1\n",
    "    \n",
    "    j = 1\n",
    "   \n",
    "    while j<=i+1:\n",
    "        print(j+i,end=\"\")\n",
    "        j = j+1\n",
    "       \n",
    "    print()\n",
    "    i = i+1\n",
    "    \n"
   ]
  },
  {
   "cell_type": "code",
   "execution_count": 87,
   "id": "dc2c2d23",
   "metadata": {},
   "outputs": [
    {
     "name": "stdout",
     "output_type": "stream",
     "text": [
      "5\n",
      "2345\n",
      "345\n",
      "45\n",
      "5\n",
      "\n"
     ]
    }
   ],
   "source": [
    "n=int(input())\n",
    "\n",
    "i=1\n",
    "while i<=n:\n",
    "#     spaces = 1\n",
    "#     while spaces<=n-i:\n",
    "#         print(\" \", end=\"\")\n",
    "#         spaces = spaces+1\n",
    "        \n",
    "    j = 1\n",
    "    while j<=n-i:\n",
    "        print(j+i,end=\"\")\n",
    "        j = j+1\n",
    "       \n",
    "    print()\n",
    "    i = i+1"
   ]
  },
  {
   "cell_type": "code",
   "execution_count": 15,
   "id": "7301607f",
   "metadata": {},
   "outputs": [
    {
     "name": "stdout",
     "output_type": "stream",
     "text": [
      "4\n",
      "   1\n",
      "  121\n",
      " 12321\n",
      "1234321\n"
     ]
    }
   ],
   "source": [
    "n=int(input())\n",
    "\n",
    "i=1\n",
    "\n",
    "while i<=n:\n",
    "    spaces = 1\n",
    "    while spaces<=n - i:\n",
    "        print(' ', end=\"\")\n",
    "        spaces = spaces + 1\n",
    "\n",
    "    j=1\n",
    "    # p=i\n",
    "    while j<=i:\n",
    "        print(j,end='')\n",
    "        j=j+1\n",
    "#         p=p-1\n",
    "    \n",
    "        \n",
    "    j = i-1\n",
    "    p = i-1\n",
    "    while j>=1:\n",
    "        \n",
    "        print(p, end=\"\")\n",
    "        j = j - 1\n",
    "        p = p-1\n",
    "    \n",
    "    print()\n",
    "    i = i + 1\n",
    "    "
   ]
  },
  {
   "cell_type": "code",
   "execution_count": 66,
   "id": "1ec85a2b",
   "metadata": {},
   "outputs": [
    {
     "name": "stdout",
     "output_type": "stream",
     "text": [
      "4\n",
      "A\n",
      "BB\n",
      "CCC\n",
      "DDDD\n"
     ]
    }
   ],
   "source": [
    "n = int(input())\n",
    "i = 1\n",
    "while i<=n:\n",
    "    j = 1\n",
    "    start_char = chr(ord('A') + i-1)\n",
    "    while j<=i:\n",
    "        charP = chr(ord(start_char)+ i - (i-1)- 1)\n",
    "        print(charP, end= '')\n",
    "        j = j +1\n",
    "    print()\n",
    "    i = i+1"
   ]
  },
  {
   "cell_type": "code",
   "execution_count": 31,
   "id": "922ee132",
   "metadata": {},
   "outputs": [
    {
     "name": "stdout",
     "output_type": "stream",
     "text": [
      "4\n",
      "43211234\n",
      "432234\n",
      "4334\n",
      "44\n"
     ]
    }
   ],
   "source": [
    "n = int(input())\n",
    "i = 1\n",
    "while i<=n:\n",
    "    j = 1\n",
    "    while j<= n-i+1:\n",
    "        print(n-j+1, end='')\n",
    "        j = j+1\n",
    "    j = i\n",
    "    while j<=n:\n",
    "        \n",
    "        print(j, end=\"\")\n",
    "        j = j+1\n",
    "    \n",
    "    print()\n",
    "    i = i + 1\n",
    "    "
   ]
  },
  {
   "cell_type": "code",
   "execution_count": 30,
   "id": "691a006c",
   "metadata": {},
   "outputs": [
    {
     "name": "stdout",
     "output_type": "stream",
     "text": [
      "4\n",
      "   1\n",
      "  12\n",
      " 123\n",
      "1234\n"
     ]
    }
   ],
   "source": [
    "n = int(input())\n",
    "i = 1\n",
    "\n",
    "while i<=n:\n",
    "    spaces = 1\n",
    "    while spaces<=n-i:\n",
    "        print(' ', end=\"\")\n",
    "        spaces = spaces + 1\n",
    "    j = 1\n",
    "    while j<=i:\n",
    "        print(j, end= \"\")\n",
    "        j = j+1\n",
    "        \n",
    "    print()\n",
    "    i =i+1\n"
   ]
  },
  {
   "cell_type": "code",
   "execution_count": 91,
   "id": "4df68c31",
   "metadata": {},
   "outputs": [
    {
     "name": "stdout",
     "output_type": "stream",
     "text": [
      "4\n",
      "   *\n",
      "  ***\n",
      " *****\n",
      "*******\n"
     ]
    }
   ],
   "source": [
    "n = int(input())\n",
    "i = 1\n",
    "\n",
    "while i<=n:\n",
    "    spaces = 1\n",
    "    while spaces<=n-i:\n",
    "        print(' ', end=\"\")\n",
    "        spaces = spaces + 1\n",
    "    j = 1\n",
    "    \n",
    "    while j<=i:\n",
    "        print('*', end= \"\")\n",
    "        j = j+1\n",
    "    \n",
    "    \n",
    "    \n",
    "    p = i-1\n",
    "    while p>=1:\n",
    "        print('*', end=\"\")\n",
    "        p = p -1\n",
    "    print()\n",
    "    i=i+1   \n",
    "\n",
    "# while i>=n-1:\n",
    "#     spaces = -1\n",
    "#     while spaces<=n -1:\n",
    "#         print(' ', end=\"\")\n",
    "#         spaces = spaces - 1\n",
    "#         j = 1\n",
    "#     while j>=i-1:\n",
    "#         print('*', end=\"\")\n",
    "#         j = j -1\n",
    "#     print()\n",
    "#     i = i-1"
   ]
  },
  {
   "cell_type": "code",
   "execution_count": 23,
   "id": "10964223",
   "metadata": {},
   "outputs": [
    {
     "name": "stdout",
     "output_type": "stream",
     "text": [
      "5\n",
      "    1\n",
      "   232\n",
      "  34543\n",
      " 4567654\n",
      "567898765\n"
     ]
    }
   ],
   "source": [
    "n = int(input())\n",
    "i = 1\n",
    "\n",
    "while i<=n:\n",
    "    spaces = 1\n",
    "    while spaces<=n-i:\n",
    "        print(' ', end=\"\")\n",
    "        spaces = spaces + 1\n",
    "    j = 1\n",
    "    \n",
    "    while j<=i:\n",
    "        print(j+i-1 , end= \"\")\n",
    "        j = j+1\n",
    "    \n",
    "    p = 2*(i)-2\n",
    "    while p>=i:\n",
    "        print(p, end=\"\")\n",
    "        p = p -1\n",
    "    print()\n",
    "    i=i+1"
   ]
  },
  {
   "cell_type": "code",
   "execution_count": null,
   "id": "285c3bb2",
   "metadata": {},
   "outputs": [],
   "source": []
  },
  {
   "cell_type": "code",
   "execution_count": 17,
   "id": "155b1fe4",
   "metadata": {},
   "outputs": [
    {
     "name": "stdout",
     "output_type": "stream",
     "text": [
      "6\n",
      "3\n"
     ]
    }
   ],
   "source": [
    "n = int(input())\n",
    "print((n+1)//2)"
   ]
  },
  {
   "cell_type": "code",
   "execution_count": 47,
   "id": "466f24a6",
   "metadata": {},
   "outputs": [
    {
     "name": "stdout",
     "output_type": "stream",
     "text": [
      "5\n",
      "* \n",
      "* * \n",
      "* * * \n",
      "* * * * \n",
      "* * * * * \n",
      "* * * * \n",
      "* * * \n",
      "* * \n",
      "* \n",
      "\n"
     ]
    }
   ],
   "source": [
    "n = int(input())\n",
    "n1 = (n+1)//2\n",
    "n2 = n//2\n",
    "\n",
    "\n",
    "\n",
    "i = 1\n",
    "while i <=n:\n",
    "    \n",
    "    j = 1\n",
    "    while j<=i:\n",
    "        print(\"*\", end=\" \")\n",
    "        j = j+1\n",
    "    print()\n",
    "    i = i+1\n",
    "    \n",
    "i = 1\n",
    "while i<=n:\n",
    "    \n",
    "    j = 1\n",
    "    while j<=(n-i):\n",
    "        print(\"*\", end=\" \")\n",
    "        j = j + 1\n",
    "    \n",
    "    print()\n",
    "    i = i+1\n",
    "    \n",
    "        "
   ]
  },
  {
   "cell_type": "code",
   "execution_count": 44,
   "id": "842ca2ec",
   "metadata": {},
   "outputs": [
    {
     "name": "stdout",
     "output_type": "stream",
     "text": [
      "5\n",
      "* \n",
      " * * \n",
      "  * * * \n",
      " * * \n",
      "* \n"
     ]
    }
   ],
   "source": [
    "\n",
    "n = int(input())\n",
    "n1 = (n+1)//2\n",
    "n2 = n//2\n",
    "\n",
    "\n",
    "\n",
    "i = 1\n",
    "while i <=n1:\n",
    "    spaces = 1\n",
    "    while spaces<=i-1:\n",
    "        print(' ', end=\"\")\n",
    "        spaces = spaces + 1\n",
    "        \n",
    "    j = 1\n",
    "    while j<=i:\n",
    "        print(\"*\", end=\" \")\n",
    "        j = j+1\n",
    "    print()\n",
    "    i = i+1\n",
    "    \n",
    "i = 1\n",
    "while i<=n2:\n",
    "    spaces = 1\n",
    "    while spaces <= n2 - i:\n",
    "        print(' ', end=\"\")\n",
    "        spaces = spaces + 1\n",
    "        \n",
    "    j = 1\n",
    "    while j<=(n2-i+1):\n",
    "        print(\"*\", end=\" \")\n",
    "        j = j + 1\n",
    "    \n",
    "    print()\n",
    "    i = i+1\n",
    "    \n",
    "        \n"
   ]
  },
  {
   "cell_type": "code",
   "execution_count": 77,
   "id": "f2bea2ed",
   "metadata": {},
   "outputs": [
    {
     "name": "stdout",
     "output_type": "stream",
     "text": [
      "1\n",
      "12\n",
      "123\n",
      "1234\n",
      "12345\n",
      "123456\n"
     ]
    }
   ],
   "source": [
    "#### n = int(input())\n",
    "i = 1\n",
    "\n",
    "while i<= n:\n",
    "    j = 1\n",
    "    while j <=i:\n",
    "       \n",
    "        print(j, end=\"\")\n",
    "        j = j+1\n",
    "    print()\n",
    "    i = i+1\n",
    "        \n",
    "    "
   ]
  },
  {
   "cell_type": "code",
   "execution_count": 29,
   "id": "2073e997",
   "metadata": {},
   "outputs": [
    {
     "name": "stdout",
     "output_type": "stream",
     "text": [
      "8\n",
      "1\n",
      "11\n",
      "111\n",
      "1111\n",
      "11111\n",
      "111111\n",
      "1111111\n",
      "11111111\n"
     ]
    }
   ],
   "source": [
    "n = int(input())\n",
    "i =1 \n",
    "\n",
    "while i<=n:\n",
    "    j = 1\n",
    "    while j <=i:\n",
    "       \n",
    "        print(n-(n-1), end='')\n",
    "        j = j+1\n",
    "    print()\n",
    "    i = i+1"
   ]
  },
  {
   "cell_type": "code",
   "execution_count": 4,
   "id": "23513b0c",
   "metadata": {},
   "outputs": [
    {
     "name": "stdout",
     "output_type": "stream",
     "text": [
      "4\n",
      "1\n",
      "21\n",
      "321\n",
      "4321\n"
     ]
    }
   ],
   "source": [
    "n=int(input())\n",
    "\n",
    "i=1\n",
    "while i<=n:\n",
    "    j=1\n",
    "    p=i\n",
    "    while j<=i:\n",
    "        print(p,end='')\n",
    "        j=j+1\n",
    "        p=p-1\n",
    "    \n",
    "    print()\n",
    "    i=i+1"
   ]
  },
  {
   "cell_type": "code",
   "execution_count": 8,
   "id": "8bdd7c85",
   "metadata": {},
   "outputs": [
    {
     "name": "stdout",
     "output_type": "stream",
     "text": [
      "5\n",
      "    1\n",
      "   21\n",
      "  321\n",
      " 4321\n",
      "54321\n"
     ]
    }
   ],
   "source": [
    "n=int(input())\n",
    "\n",
    "i=1\n",
    "\n",
    "while i<=n:\n",
    "    spaces = 1\n",
    "    while spaces<=n-i:\n",
    "        print(' ', end=\"\")\n",
    "        spaces = spaces + 1\n",
    "\n",
    "    j=1\n",
    "    p=i\n",
    "    while j<=i:\n",
    "        print(p,end='')\n",
    "        j=j+1\n",
    "        p=p-1\n",
    "    \n",
    "        \n",
    "    print()\n",
    "    i=i+1"
   ]
  },
  {
   "cell_type": "code",
   "execution_count": 73,
   "id": "8ebaeffe",
   "metadata": {},
   "outputs": [
    {
     "name": "stdout",
     "output_type": "stream",
     "text": [
      "4\n",
      "*000*000*\n",
      "0*00*00*0\n",
      "00*0*0*00\n",
      "000***000\n"
     ]
    }
   ],
   "source": [
    "n=int(input())\n",
    "\n",
    "i=1\n",
    "\n",
    "while i<=n:\n",
    "    spaces = 1\n",
    "    while spaces<=i-1:\n",
    "        print(\"0\", end=\"\")\n",
    "        spaces = spaces + 1\n",
    "    j = 1\n",
    "    while j<=1:\n",
    "        print(\"*\", end=\"\")\n",
    "        j = j + 1\n",
    "    spaces = 1\n",
    "    while spaces<=n-i:\n",
    "        print('0', end=\"\")\n",
    "        spaces = spaces + 1\n",
    "    \n",
    "    j = 1\n",
    "    while j<=1:\n",
    "        print(\"*\", end=\"\")\n",
    "        j = j + 1\n",
    "    \n",
    "    spaces = 1\n",
    "    while spaces<=n-i:\n",
    "        print('0', end=\"\")\n",
    "        spaces = spaces + 1\n",
    "        \n",
    "    j = 1\n",
    "    while j<=1:\n",
    "        print(\"*\", end=\"\")\n",
    "        j = j + 1\n",
    "        \n",
    "    spaces = 1\n",
    "    while spaces<=i-1:\n",
    "        print('0', end=\"\")\n",
    "        spaces = spaces + 1\n",
    "        \n",
    "    print()\n",
    "    i = i+1"
   ]
  },
  {
   "cell_type": "markdown",
   "id": "1bb91f68",
   "metadata": {},
   "source": [
    "1\n",
    "11\n",
    "121\n",
    "1221"
   ]
  },
  {
   "cell_type": "code",
   "execution_count": 113,
   "id": "db726581",
   "metadata": {},
   "outputs": [
    {
     "name": "stdout",
     "output_type": "stream",
     "text": [
      "4\n",
      "1\n",
      "11\n",
      "121\n",
      "1221\n"
     ]
    }
   ],
   "source": [
    "n = int(input())\n",
    "i =1\n",
    "print(i)\n",
    "i =1\n",
    "while i<=n-1:\n",
    "    print(\"1\", end='')\n",
    "    spaces = 1\n",
    "   \n",
    "    while spaces<=i-1:\n",
    "            print(\"2\",end= \"\")\n",
    "            spaces = spaces+1\n",
    "            \n",
    "\n",
    "            \n",
    "    j = 1\n",
    "    while j<=1:\n",
    "        print(\"1\",end=\"\")\n",
    "        j = j+1\n",
    "    \n",
    "  \n",
    "    print()\n",
    " \n",
    "    i = i+1\n",
    "  "
   ]
  },
  {
   "cell_type": "code",
   "execution_count": 110,
   "id": "14e96397",
   "metadata": {},
   "outputs": [
    {
     "name": "stdout",
     "output_type": "stream",
     "text": [
      "4\n",
      "1\n",
      "11\n",
      "2O2\n",
      "3OO3\n"
     ]
    }
   ],
   "source": [
    "\n",
    "n = int(input())\n",
    "i =1\n",
    "print(i)\n",
    "i =1\n",
    "while i<=n-1:\n",
    "    print(i, end='')\n",
    "    spaces = 1\n",
    "   \n",
    "    while spaces<=i-1:\n",
    "            print(\"O\",end= \"\")\n",
    "            spaces = spaces+1\n",
    "            \n",
    "    j = 1\n",
    "    while j<=1:\n",
    "        print(i,end=\"\")\n",
    "        j = j+1\n",
    "    \n",
    "  \n",
    "    print()\n",
    " \n",
    "    i = i+1\n",
    "  "
   ]
  },
  {
   "cell_type": "code",
   "execution_count": 50,
   "id": "7062427f",
   "metadata": {},
   "outputs": [
    {
     "name": "stdout",
     "output_type": "stream",
     "text": [
      "5\n",
      "  *\n",
      " ***\n",
      "*****\n",
      " ***\n",
      "  *\n"
     ]
    }
   ],
   "source": [
    "n=int(input())\n",
    "n1 = (n+1)/2\n",
    "n2= n//2\n",
    "i=1\n",
    "\n",
    "while i<=n1:\n",
    "    spaces = 1\n",
    "    while spaces<=n1-i:\n",
    "        print(' ', end=\"\")\n",
    "        spaces = spaces + 1\n",
    "    j = 1\n",
    "    \n",
    "    while j<=(2*i)-1 :\n",
    "        print(\"*\" , end=\"\")\n",
    "        j = j + 1\n",
    "        \n",
    "    print()\n",
    "    i = i+1\n",
    "    \n",
    "i=n2\n",
    "while i >=1:\n",
    "    \n",
    "    spaces = 1\n",
    "   \n",
    "    while spaces<=n2-i+1:\n",
    "        print(' ', end=\"\")\n",
    "        spaces = spaces + 1\n",
    "    j = 1\n",
    "    while j<=(2*i)-1:\n",
    "        \n",
    "        print(\"*\" , end=\"\")\n",
    "        j = j + 1\n",
    "    \n",
    "        \n",
    "    print()\n",
    "    i = i-1\n",
    "    "
   ]
  },
  {
   "cell_type": "markdown",
   "id": "45d6327c",
   "metadata": {},
   "source": [
    "123456\n",
    " 23456\n",
    "  3456\n",
    "   456\n",
    "    56\n",
    "     6\n",
    "    56\n",
    "   456\n",
    "  3456\n",
    " 23456\n",
    "123456"
   ]
  },
  {
   "cell_type": "code",
   "execution_count": 152,
   "id": "25fba4f2",
   "metadata": {},
   "outputs": [
    {
     "name": "stdout",
     "output_type": "stream",
     "text": [
      "6\n",
      "      \n",
      "     \n",
      "    \n",
      "   \n",
      "  \n",
      " \n"
     ]
    }
   ],
   "source": [
    "n = int(input())\n",
    "\n",
    "# for i in range(1, n+1):\n",
    "#     for spaces in range(0, i-1 ):\n",
    "#         print(' ', end=\"\")\n",
    "#     for j in range(n-i+1):\n",
    "#         print(j+i, end=\"\")\n",
    "    \n",
    "    \n",
    "#     print()\n",
    "for i in range(1,n+1):\n",
    "    for spaces in range(n-i+1 ):\n",
    "        print(' ', end=\"\")\n",
    "    for j in range(n+1, i-1 ):\n",
    "        print(j, end=\"\")\n",
    "    \n",
    "    print( )\n"
   ]
  },
  {
   "cell_type": "code",
   "execution_count": 134,
   "id": "e0396860",
   "metadata": {},
   "outputs": [
    {
     "name": "stdout",
     "output_type": "stream",
     "text": [
      "6\n",
      "1          1\n",
      "12        21\n",
      "123      321\n",
      "1234    4321\n",
      "12345  54321\n",
      "123456654321\n"
     ]
    }
   ],
   "source": [
    "n=int(input())\n",
    "\n",
    "i=1\n",
    "\n",
    "while i<=n:\n",
    "    j = 1\n",
    "    while j<=i:\n",
    "        print(j, end=\"\")\n",
    "        j = j + 1\n",
    "    \n",
    "    spaces = 1\n",
    "    while spaces<=n - i:\n",
    "        print(' ', end=\" \")\n",
    "        spaces = spaces + 1\n",
    "\n",
    "    j=1\n",
    "    p=i\n",
    "    while j<=i:\n",
    "        print(p,end='')\n",
    "        j=j+1\n",
    "        p=p-1\n",
    "    \n",
    "        \n",
    "    print()\n",
    "    i=i+1"
   ]
  },
  {
   "cell_type": "code",
   "execution_count": 52,
   "id": "87360a4e",
   "metadata": {},
   "outputs": [
    {
     "name": "stdout",
     "output_type": "stream",
     "text": [
      "4\n",
      "   1\n",
      "  212\n",
      " 32123\n",
      "4321234\n"
     ]
    }
   ],
   "source": [
    "n=int(input())\n",
    "\n",
    "i=1\n",
    "\n",
    "while i<=n:\n",
    "    spaces = 1\n",
    "    while spaces<=n - i:\n",
    "        print(' ', end=\"\")\n",
    "        spaces = spaces + 1\n",
    "\n",
    "    j=1\n",
    "    p=i\n",
    "    while j<=i:\n",
    "        print(p,end='')\n",
    "        j=j+1\n",
    "        p=p-1\n",
    "    \n",
    "        \n",
    "    j = 2\n",
    "    \n",
    "    while j<=i:\n",
    "        \n",
    "        print(j, end=\"\")\n",
    "        j = j + 1\n",
    "    \n",
    "    print()\n",
    "    i = i + 1\n",
    "    "
   ]
  },
  {
   "cell_type": "markdown",
   "id": "3e8591f2",
   "metadata": {},
   "source": [
    "11111\n",
    "2222\n",
    "333\n",
    "44\n",
    "5"
   ]
  },
  {
   "cell_type": "code",
   "execution_count": 44,
   "id": "373c094d",
   "metadata": {},
   "outputs": [
    {
     "name": "stdout",
     "output_type": "stream",
     "text": [
      "5\n",
      "55555\n",
      "5555\n",
      "555\n",
      "55\n",
      "5\n"
     ]
    }
   ],
   "source": [
    "n = int(input())\n",
    "i = 1\n",
    "\n",
    "while i<=n:\n",
    "    j = 1\n",
    "    while j<=n-i+1:\n",
    "        print(n, end=\"\")\n",
    "        j = j + 1\n",
    "    print()\n",
    "    i = i+1\n",
    "   "
   ]
  },
  {
   "cell_type": "code",
   "execution_count": 11,
   "id": "9ef568d0",
   "metadata": {
    "scrolled": true
   },
   "outputs": [
    {
     "name": "stdout",
     "output_type": "stream",
     "text": [
      "5\n",
      "E\n",
      "DE\n",
      "CDE\n",
      "BCDE\n",
      "ABCDE\n"
     ]
    }
   ],
   "source": [
    "n = int(input())\n",
    "i = 1\n",
    "while i<=n:\n",
    "    j = 1\n",
    "    start_char = chr(ord('A') + n-i)\n",
    "    while j<=i:\n",
    "        charP = chr(ord(start_char) + j-1 )\n",
    "        print(charP, end= '')\n",
    "        j = j +1\n",
    "    print()\n",
    "    i = i+1"
   ]
  },
  {
   "cell_type": "code",
   "execution_count": 13,
   "id": "fb19731b",
   "metadata": {},
   "outputs": [
    {
     "name": "stdout",
     "output_type": "stream",
     "text": [
      "5\n",
      "A\n",
      "BB\n",
      "CCC\n",
      "DDDD\n",
      "EEEEE\n"
     ]
    }
   ],
   "source": [
    "n = int(input())\n",
    "i = 1\n",
    "while i<=n:\n",
    "    j = 1\n",
    "    start_char = chr(ord('A') + i-1)\n",
    "    while j<=i:\n",
    "        charP = chr(ord(start_char)+ i -(i-1)- 1)\n",
    "        print(charP, end= '')\n",
    "        j = j +1\n",
    "    print()\n",
    "    i = i+1"
   ]
  },
  {
   "cell_type": "code",
   "execution_count": 79,
   "id": "b9a57640",
   "metadata": {},
   "outputs": [
    {
     "name": "stdout",
     "output_type": "stream",
     "text": [
      "6\n",
      "K\n",
      "JJ\n",
      "III\n",
      "HHHH\n",
      "GGGGG\n",
      "FFFFFF\n"
     ]
    }
   ],
   "source": [
    "n = int(input())\n",
    "i = 1\n",
    "while i<=n:\n",
    "    j = 1\n",
    "    start_char = chr(ord('A') + i-1)\n",
    "    while j<=i:\n",
    "        charP = chr(ord(start_char)+ )\n",
    "        print(charP, end= '')\n",
    "        j = j +1\n",
    "    print()\n",
    "    i = i+1"
   ]
  },
  {
   "cell_type": "code",
   "execution_count": 37,
   "id": "55427cc2",
   "metadata": {},
   "outputs": [
    {
     "name": "stdout",
     "output_type": "stream",
     "text": [
      "5\n",
      "A B C D \n",
      "E F G H \n",
      "I J K L \n",
      "M N O P \n",
      "Q R S T \n"
     ]
    }
   ],
   "source": [
    "k = 65\n",
    "num = int(input())\n",
    "for i in range(1, num+1,n-i+1):\n",
    "    for j in range(1,i+ ):\n",
    "        ch = chr(k)\n",
    "        print(ch, end=\" \")\n",
    "        k = k+1\n",
    "    print()"
   ]
  },
  {
   "cell_type": "code",
   "execution_count": 20,
   "id": "65dc793a",
   "metadata": {},
   "outputs": [
    {
     "name": "stdout",
     "output_type": "stream",
     "text": [
      "5\n",
      "12345\n",
      "1234\n",
      "123\n",
      "12\n",
      "1\n"
     ]
    }
   ],
   "source": [
    "n = int(input())\n",
    "i = 1\n",
    "while i<=n:\n",
    "    j = 1\n",
    "    while j <= n - i +1:\n",
    "        print(j ,end= '')\n",
    "        j = j+1\n",
    "    print()\n",
    "    i = i+1"
   ]
  },
  {
   "cell_type": "code",
   "execution_count": 7,
   "id": "f8e9f702",
   "metadata": {},
   "outputs": [
    {
     "name": "stdout",
     "output_type": "stream",
     "text": [
      "789\n",
      "987\n",
      "Not Palindrome\n"
     ]
    }
   ],
   "source": [
    "n = int(input())\n",
    "temp = n\n",
    "reverse = 0\n",
    "\n",
    "while n>0:\n",
    "    dig = n%10\n",
    "    reverse = reverse*10 + dig\n",
    "    n = n//10\n",
    "    \n",
    "print(reverse)\n",
    "\n",
    "if temp == reverse:\n",
    "    print(\"Palindrome Number\")\n",
    "    \n",
    "else:\n",
    "    print(\"Not Palindrome\")"
   ]
  },
  {
   "cell_type": "markdown",
   "id": "914b7d0f",
   "metadata": {},
   "source": [
    "Sum of odd and even no."
   ]
  },
  {
   "cell_type": "code",
   "execution_count": 15,
   "id": "1a7cd67c",
   "metadata": {},
   "outputs": [
    {
     "name": "stdout",
     "output_type": "stream",
     "text": [
      "765432\n",
      "12   15\n"
     ]
    }
   ],
   "source": [
    "n = int(input())\n",
    "even = 0\n",
    "odd = 0\n",
    "while n>0:\n",
    "    remainder = n%10\n",
    "    if remainder%2 == 0:\n",
    "        even  = even + remainder\n",
    "\n",
    "    \n",
    "    else:\n",
    "        odd = odd + remainder\n",
    "        \n",
    "    n = n//10\n",
    "    \n",
    "print(even, \" \", odd)"
   ]
  },
  {
   "cell_type": "code",
   "execution_count": 45,
   "id": "7b08fe05",
   "metadata": {},
   "outputs": [
    {
     "name": "stdout",
     "output_type": "stream",
     "text": [
      "70\n",
      "90\n",
      "2\n",
      "70\t21\n",
      "72\t22\n",
      "74\t23\n",
      "76\t24\n",
      "78\t25\n",
      "80\t26\n",
      "82\t27\n",
      "84\t28\n",
      "86\t30\n",
      "88\t31\n",
      "90\t32\n"
     ]
    }
   ],
   "source": [
    "S = int(input())\n",
    "E  = int(input())\n",
    "W  = int(input())\n",
    "fahrenheit_value = S\n",
    "while S<=E:\n",
    "    Celsius_value = (S - 32) * 5/9 \n",
    "    print(str(S) + \"\\t\" + str(int(Celsius_value)))\n",
    "    S = S + W\n"
   ]
  },
  {
   "cell_type": "code",
   "execution_count": 19,
   "id": "92fd9a1c",
   "metadata": {},
   "outputs": [
    {
     "name": "stdout",
     "output_type": "stream",
     "text": [
      "10\n",
      "100\n",
      "20\n",
      "10\t-12\n",
      "30\t-1\n",
      "50\t10\n",
      "70\t21\n",
      "90\t32\n"
     ]
    }
   ],
   "source": [
    "S = int(input())\n",
    "E  = int(input())\n",
    "W  = int(input())\n",
    "f = S\n",
    "while f<=E:\n",
    "    Celsius_value = (f - 32) * 5/9 \n",
    "    print(str(f) + \"\\t\" + str(int(Celsius_value)))\n",
    "    f =f+ W\n",
    "\n",
    "   "
   ]
  },
  {
   "cell_type": "code",
   "execution_count": 33,
   "id": "092f6bfa",
   "metadata": {},
   "outputs": [
    {
     "name": "stdout",
     "output_type": "stream",
     "text": [
      "5\n",
      "\n",
      "\n",
      "\n",
      "Prime no\n"
     ]
    }
   ],
   "source": [
    "n= int(input())\n",
    "\n",
    "i = 2\n",
    "prime=True\n",
    "\n",
    "while i<n:\n",
    "    if n%i ==0:\n",
    "        prime =False\n",
    "        break\n",
    "    i = i+1\n",
    "    print()\n",
    "\n",
    "if prime==True:\n",
    "    print(\"Prime no\")\n",
    "else:\n",
    "    print(\"Not prime no\")"
   ]
  },
  {
   "cell_type": "code",
   "execution_count": 32,
   "id": "3a7baa00",
   "metadata": {},
   "outputs": [
    {
     "data": {
      "text/plain": [
       "65"
      ]
     },
     "execution_count": 32,
     "metadata": {},
     "output_type": "execute_result"
    }
   ],
   "source": [
    "ord(\"A\")"
   ]
  },
  {
   "cell_type": "code",
   "execution_count": 47,
   "id": "bfa963ea",
   "metadata": {},
   "outputs": [
    {
     "name": "stdout",
     "output_type": "stream",
     "text": [
      "100\n",
      "2\n",
      "3\n",
      "5\n",
      "7\n",
      "11\n",
      "13\n",
      "17\n",
      "19\n",
      "23\n",
      "29\n",
      "31\n",
      "37\n",
      "41\n",
      "43\n",
      "47\n",
      "53\n",
      "59\n",
      "61\n",
      "67\n",
      "71\n",
      "73\n",
      "79\n",
      "83\n",
      "89\n",
      "97\n"
     ]
    }
   ],
   "source": [
    "num = int(input())\n",
    "\n",
    "\n",
    "for i in range(1,num):\n",
    "    count = 0\n",
    "    for j in range(1,i+1):\n",
    "        if i%j ==0:\n",
    "            count = count+1\n",
    "    \n",
    "    if count ==2:\n",
    "        print(i)\n",
    "   \n",
    "    \n",
    "    "
   ]
  },
  {
   "cell_type": "code",
   "execution_count": 59,
   "id": "3eddcbb0",
   "metadata": {},
   "outputs": [
    {
     "name": "stdout",
     "output_type": "stream",
     "text": [
      "89\n",
      "\n",
      "\n"
     ]
    },
    {
     "ename": "KeyboardInterrupt",
     "evalue": "",
     "output_type": "error",
     "traceback": [
      "\u001b[1;31m---------------------------------------------------------------------------\u001b[0m",
      "\u001b[1;31mKeyboardInterrupt\u001b[0m                         Traceback (most recent call last)",
      "\u001b[1;32m<ipython-input-59-cd203adc440d>\u001b[0m in \u001b[0;36m<module>\u001b[1;34m\u001b[0m\n\u001b[0;32m      6\u001b[0m     \u001b[0mj\u001b[0m \u001b[1;33m=\u001b[0m \u001b[1;36m1\u001b[0m\u001b[1;33m\u001b[0m\u001b[1;33m\u001b[0m\u001b[0m\n\u001b[0;32m      7\u001b[0m     \u001b[1;32mwhile\u001b[0m \u001b[0mj\u001b[0m\u001b[1;33m<\u001b[0m\u001b[0mi\u001b[0m\u001b[1;33m:\u001b[0m\u001b[1;33m\u001b[0m\u001b[1;33m\u001b[0m\u001b[0m\n\u001b[1;32m----> 8\u001b[1;33m         \u001b[1;32mif\u001b[0m \u001b[0mi\u001b[0m\u001b[1;33m%\u001b[0m\u001b[0mj\u001b[0m \u001b[1;33m==\u001b[0m\u001b[1;36m0\u001b[0m\u001b[1;33m:\u001b[0m\u001b[1;33m\u001b[0m\u001b[1;33m\u001b[0m\u001b[0m\n\u001b[0m\u001b[0;32m      9\u001b[0m             \u001b[0mcount\u001b[0m \u001b[1;33m=\u001b[0m \u001b[0mcount\u001b[0m\u001b[1;33m+\u001b[0m\u001b[1;36m1\u001b[0m\u001b[1;33m\u001b[0m\u001b[1;33m\u001b[0m\u001b[0m\n\u001b[0;32m     10\u001b[0m             \u001b[0mj\u001b[0m \u001b[1;33m=\u001b[0m \u001b[0mj\u001b[0m\u001b[1;33m+\u001b[0m\u001b[1;36m1\u001b[0m\u001b[1;33m\u001b[0m\u001b[1;33m\u001b[0m\u001b[0m\n",
      "\u001b[1;31mKeyboardInterrupt\u001b[0m: "
     ]
    }
   ],
   "source": []
  },
  {
   "cell_type": "code",
   "execution_count": 63,
   "id": "2f6054e1",
   "metadata": {},
   "outputs": [
    {
     "name": "stdout",
     "output_type": "stream",
     "text": [
      "7\n",
      "1\n",
      "11\n",
      "111\n",
      "1111\n",
      "11111\n",
      "111111\n",
      "1111111\n"
     ]
    }
   ],
   "source": [
    "n = int(input())\n",
    "i =1 \n",
    "n==1\n",
    "while i<=n:\n",
    "    j = 1\n",
    "    while j <=i:\n",
    "        print(n-(n-1), end='')\n",
    "        j = j+1\n",
    "    print()\n",
    "    i = i+1"
   ]
  },
  {
   "cell_type": "code",
   "execution_count": 105,
   "id": "cb723184",
   "metadata": {},
   "outputs": [
    {
     "name": "stdout",
     "output_type": "stream",
     "text": [
      "4\n",
      "1234\n",
      "123\n",
      "12\n",
      "1\n"
     ]
    }
   ],
   "source": [
    "n = int(input())\n",
    "i =1 \n",
    "n==1\n",
    "while i<=n:\n",
    "    j = 1\n",
    "   \n",
    "    while j <=n-i+1:\n",
    "        print(j, end='')\n",
    "        j = j+1\n",
    "      \n",
    "    print()\n",
    "    i = i+1"
   ]
  },
  {
   "cell_type": "code",
   "execution_count": null,
   "id": "a69eea78",
   "metadata": {},
   "outputs": [],
   "source": []
  }
 ],
 "metadata": {
  "kernelspec": {
   "display_name": "Python 3",
   "language": "python",
   "name": "python3"
  },
  "language_info": {
   "codemirror_mode": {
    "name": "ipython",
    "version": 3
   },
   "file_extension": ".py",
   "mimetype": "text/x-python",
   "name": "python",
   "nbconvert_exporter": "python",
   "pygments_lexer": "ipython3",
   "version": "3.8.8"
  }
 },
 "nbformat": 4,
 "nbformat_minor": 5
}
